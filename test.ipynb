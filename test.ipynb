{
 "cells": [
  {
   "cell_type": "code",
   "execution_count": 31,
   "metadata": {},
   "outputs": [],
   "source": [
    "import pandas as pd\n",
    "import sqlite3\n",
    "import re\n",
    "from contextlib import closing\n",
    "from datetime import datetime"
   ]
  },
  {
   "cell_type": "code",
   "execution_count": 40,
   "metadata": {},
   "outputs": [
    {
     "name": "stdout",
     "output_type": "stream",
     "text": [
      "                      name                      date\n",
      "0   session_20240718205900  Thu Jul 18 20:59:00 2024\n",
      "1   session_20240718205902  Thu Jul 18 20:59:02 2024\n",
      "2   session_20240718210325  Thu Jul 18 21:03:25 2024\n",
      "3   session_20240718210735  Thu Jul 18 21:07:35 2024\n",
      "4   session_20240718210855  Thu Jul 18 21:08:55 2024\n",
      "5   session_20240718211653  Thu Jul 18 21:16:53 2024\n",
      "6   session_20240718225211  Thu Jul 18 22:52:11 2024\n",
      "7   session_20240718225348  Thu Jul 18 22:53:48 2024\n",
      "8   session_20240718225547  Thu Jul 18 22:55:47 2024\n",
      "9   session_20240718225548  Thu Jul 18 22:55:48 2024\n",
      "10  session_20240718225837  Thu Jul 18 22:58:37 2024\n",
      "11  session_20240718230147  Thu Jul 18 23:01:47 2024\n",
      "12  session_20240718230236  Thu Jul 18 23:02:36 2024\n",
      "13  session_20240718230317  Thu Jul 18 23:03:17 2024\n",
      "14  session_20240718230443  Thu Jul 18 23:04:43 2024\n",
      "15  session_20240718231010  Thu Jul 18 23:10:10 2024\n",
      "16  session_20240718231139  Thu Jul 18 23:11:39 2024\n",
      "17  session_20240718232353  Thu Jul 18 23:23:53 2024\n",
      "18  session_20240718232427  Thu Jul 18 23:24:27 2024\n",
      "19  session_20240718232747  Thu Jul 18 23:27:47 2024\n",
      "20  session_20240718232840  Thu Jul 18 23:28:40 2024\n",
      "21  session_20240718232948  Thu Jul 18 23:29:48 2024\n",
      "22  session_20240718233036  Thu Jul 18 23:30:36 2024\n",
      "23  session_20240718233245  Thu Jul 18 23:32:45 2024\n",
      "24  session_20240718233439  Thu Jul 18 23:34:39 2024\n",
      "25  session_20240718233557  Thu Jul 18 23:35:57 2024\n",
      "26  session_20240718233635  Thu Jul 18 23:36:35 2024\n"
     ]
    }
   ],
   "source": [
    "db = \"test.db\"\n",
    "\n",
    "query_sessions = '''\n",
    "SELECT name FROM sqlite_master WHERE name LIKE 'session_%'\n",
    "'''\n",
    "query_notes = '''\n",
    " SELECT notes FROM session\n",
    "'''\n",
    "\n",
    "def get_uid(name:str)->str:\n",
    "    return re.findall(r\"\\d+\", name)\n",
    "\n",
    "def get_date(name:str)->datetime:\n",
    "    return datetime.strptime(\n",
    "        re.findall(r\"\\d+\", name)[0],\n",
    "        r'%Y%m%d%H%M%S'\n",
    "    ).strftime(r\"%c\")\n",
    "    \n",
    "with closing(sqlite3.connect(db)) as conn:\n",
    "    sessions = pd.read_sql(query_sessions, conn)\n",
    "    sessions[\"date\"] = sessions[\"name\"].apply(get_date)\n",
    "\n",
    "    print(sessions)"
   ]
  }
 ],
 "metadata": {
  "kernelspec": {
   "display_name": "env3-12",
   "language": "python",
   "name": "python3"
  },
  "language_info": {
   "codemirror_mode": {
    "name": "ipython",
    "version": 3
   },
   "file_extension": ".py",
   "mimetype": "text/x-python",
   "name": "python",
   "nbconvert_exporter": "python",
   "pygments_lexer": "ipython3",
   "version": "3.12.4"
  }
 },
 "nbformat": 4,
 "nbformat_minor": 2
}
