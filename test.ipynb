{
 "cells": [
  {
   "cell_type": "code",
   "execution_count": 8,
   "metadata": {},
   "outputs": [],
   "source": [
    "import pandas as pd\n",
    "import sqlite3\n",
    "import re\n",
    "from contextlib import closing"
   ]
  },
  {
   "cell_type": "code",
   "execution_count": 10,
   "metadata": {},
   "outputs": [
    {
     "name": "stdout",
     "output_type": "stream",
     "text": [
      "                      name\n",
      "0   session_20240718205900\n",
      "1    events_20240718205900\n",
      "2   session_20240718205902\n",
      "3    events_20240718205902\n",
      "4   session_20240718210325\n",
      "5    events_20240718210325\n",
      "6   session_20240718210735\n",
      "7    events_20240718210735\n",
      "8   session_20240718210855\n",
      "9    events_20240718210855\n",
      "10  session_20240718211653\n",
      "11   events_20240718211653\n",
      "12  session_20240718225211\n",
      "13   events_20240718225211\n",
      "14  session_20240718225348\n",
      "15   events_20240718225348\n",
      "16  session_20240718225547\n",
      "17   events_20240718225547\n",
      "18  session_20240718225548\n",
      "19   events_20240718225548\n",
      "20  session_20240718225837\n",
      "21   events_20240718225837\n",
      "22  session_20240718230147\n",
      "23   events_20240718230147\n",
      "24  session_20240718230236\n",
      "25   events_20240718230236\n",
      "26  session_20240718230317\n",
      "27   events_20240718230317\n",
      "28  session_20240718230443\n",
      "29   events_20240718230443\n",
      "30  session_20240718231010\n",
      "31   events_20240718231010\n",
      "32  session_20240718231139\n",
      "33   events_20240718231139\n",
      "34  session_20240718232353\n",
      "35   events_20240718232353\n",
      "36  session_20240718232427\n",
      "37   events_20240718232427\n",
      "38  session_20240718232747\n",
      "39   events_20240718232747\n",
      "40  session_20240718232840\n",
      "41   events_20240718232840\n",
      "42  session_20240718232948\n",
      "43   events_20240718232948\n",
      "44  session_20240718233036\n",
      "45   events_20240718233036\n",
      "46  session_20240718233245\n",
      "47   events_20240718233245\n",
      "48  session_20240718233439\n",
      "49   events_20240718233439\n",
      "50  session_20240718233557\n",
      "51   events_20240718233557\n",
      "52  session_20240718233635\n",
      "53   events_20240718233635\n"
     ]
    }
   ],
   "source": [
    "db = \"test.db\"\n",
    "\n",
    "query_sessions = '''\n",
    "SELECT name FROM sqlite_master\n",
    "WHERE type='table' AND name LIKE 'session_%';\n",
    "'''\n",
    "\n",
    "query_events = '''\n",
    "SELECT name FROM sqlite_master\n",
    "WHERE type='table' AND name LIKE 'events_%';\n",
    "'''\n",
    "\n",
    "\n",
    "with closing(sqlite3.connect(db)) as conn:\n",
    "    sessions = pd.read_sql(query_sessions, conn)\n",
    "    events = pd.read_sql(query_events, conn)\n",
    "\n",
    "    print(sessions)\n",
    "    print(events)"
   ]
  }
 ],
 "metadata": {
  "kernelspec": {
   "display_name": "env3-12",
   "language": "python",
   "name": "python3"
  },
  "language_info": {
   "codemirror_mode": {
    "name": "ipython",
    "version": 3
   },
   "file_extension": ".py",
   "mimetype": "text/x-python",
   "name": "python",
   "nbconvert_exporter": "python",
   "pygments_lexer": "ipython3",
   "version": "3.12.4"
  }
 },
 "nbformat": 4,
 "nbformat_minor": 2
}
