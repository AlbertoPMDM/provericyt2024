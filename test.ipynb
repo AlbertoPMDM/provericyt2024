{
 "cells": [
  {
   "cell_type": "code",
   "execution_count": 2,
   "metadata": {},
   "outputs": [],
   "source": [
    "import pandas as pd\n",
    "import sqlite3\n",
    "import re\n",
    "from contextlib import closing\n",
    "from datetime import datetime"
   ]
  },
  {
   "cell_type": "code",
   "execution_count": 12,
   "metadata": {},
   "outputs": [
    {
     "name": "stdout",
     "output_type": "stream",
     "text": [
      "               id    notes                      date\n",
      "0  20240719165621  pruebas  Fri Jul 19 16:56:21 2024\n",
      "1  20240719165701     wawa  Fri Jul 19 16:57:01 2024\n"
     ]
    }
   ],
   "source": [
    "db = \"test.db\"\n",
    "\n",
    "query_sessions = '''\n",
    "SELECT id, notes FROM session\n",
    "'''\n",
    "\n",
    "def get_uid(name:str)->str:\n",
    "    return re.findall(r\"\\d+\", name)\n",
    "\n",
    "def get_date(name:int)->datetime:\n",
    "    return datetime.strptime(\n",
    "        re.findall(r\"\\d+\", str(name))[0],\n",
    "        r'%Y%m%d%H%M%S'\n",
    "    ).strftime(r\"%c\")\n",
    "    \n",
    "with closing(sqlite3.connect(db)) as conn:\n",
    "    sessions = pd.read_sql(query_sessions, conn)\n",
    "    sessions[\"date\"] = sessions[\"id\"].apply(get_date)\n",
    "\n",
    "\n",
    "    print(sessions)"
   ]
  }
 ],
 "metadata": {
  "kernelspec": {
   "display_name": "env3-12",
   "language": "python",
   "name": "python3"
  },
  "language_info": {
   "codemirror_mode": {
    "name": "ipython",
    "version": 3
   },
   "file_extension": ".py",
   "mimetype": "text/x-python",
   "name": "python",
   "nbconvert_exporter": "python",
   "pygments_lexer": "ipython3",
   "version": "3.12.2"
  }
 },
 "nbformat": 4,
 "nbformat_minor": 2
}
