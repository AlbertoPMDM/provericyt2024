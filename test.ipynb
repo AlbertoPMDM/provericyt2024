{
 "cells": [
  {
   "cell_type": "code",
   "execution_count": 31,
   "metadata": {},
   "outputs": [],
   "source": [
    "import pandas as pd\n",
    "import sqlite3\n",
    "import re\n",
    "from contextlib import closing\n",
    "from datetime import datetime"
   ]
  },
  {
   "cell_type": "code",
   "execution_count": 36,
   "metadata": {},
   "outputs": [
    {
     "name": "stdout",
     "output_type": "stream",
     "text": [
      "Thu Jul 18 20:59:00 2024\n"
     ]
    }
   ],
   "source": [
    "db = \"test.db\"\n",
    "\n",
    "query_sessions = '''\n",
    "SELECT name as sessions,name as events FROM\n",
    "(\n",
    "SELECT * FROM\n",
    "\t(SELECT name FROM sqlite_master WHERE name LIKE 'session_%'),\n",
    "\t(SELECT name FROM sqlite_master WHERE name LIKE 'events_%')\n",
    ")\n",
    "'''\n",
    "\n",
    "def get_uid(name:str)->str:\n",
    "    return re.findall(r\"\\d+\", name)\n",
    "\n",
    "def get_date(name:str)->datetime:\n",
    "    return datetime.strptime(\n",
    "        re.findall(r\"\\d+\", name)[0],\n",
    "        r'%Y%m%d%H%M%S'\n",
    "    ).strftime(r\"%c\")\n",
    "    \n",
    "with closing(sqlite3.connect(db)) as conn:\n",
    "    sessions = pd.read_sql(query_sessions, conn)\n",
    "\n",
    "    print(get_date(sessions['sessions'][0]))"
   ]
  }
 ],
 "metadata": {
  "kernelspec": {
   "display_name": "env3-12",
   "language": "python",
   "name": "python3"
  },
  "language_info": {
   "codemirror_mode": {
    "name": "ipython",
    "version": 3
   },
   "file_extension": ".py",
   "mimetype": "text/x-python",
   "name": "python",
   "nbconvert_exporter": "python",
   "pygments_lexer": "ipython3",
   "version": "3.12.4"
  }
 },
 "nbformat": 4,
 "nbformat_minor": 2
}
